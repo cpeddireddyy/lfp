{
 "cells": [
  {
   "cell_type": "code",
   "execution_count": 2,
   "metadata": {},
   "outputs": [],
   "source": [
    "import h5py\n",
    "import pandas\n",
    "import numpy\n",
    "import os\n",
    "import glob\n",
    "from collections import defaultdict\n",
    "import trodes.read_exported\n",
    "import pandas as pd\n",
    "import numpy as np\n",
    "from scipy import stats\n",
    "from spectral_connectivity import Multitaper, Connectivity\n",
    "import logging\n",
    "import h5py\n",
    "import pickle\n",
    "from scipy.interpolate import interp1d\n",
    "from scipy.signal import savgol_filter\n",
    "import matplotlib.pyplot as plt\n",
    "\n",
    "import spikeinterface.extractors as se\n",
    "import spikeinterface.preprocessing as sp\n",
    "\n",
    "def pickle_this(thing_to_pickle, file_name):\n",
    "    \"\"\"\n",
    "    Pickles things\n",
    "    Args (2):   \n",
    "        thing_to_pickle: anything you want to pickle\n",
    "        file_name: str, filename that ends with .pkl \n",
    "    Returns:\n",
    "        none\n",
    "    \"\"\"\n",
    "    with open(file_name,'wb') as file:\n",
    "        pickle.dump(thing_to_pickle, file)\n",
    "\n",
    "def unpickle_this(pickle_file):\n",
    "    \"\"\"\n",
    "    Unpickles things\n",
    "    Args (1):   \n",
    "        file_name: str, pickle filename that already exists and ends with .pkl\n",
    "    Returns:\n",
    "        pickled item\n",
    "    \"\"\"\n",
    "    with open(pickle_file, 'rb') as file:\n",
    "        return(pickle.load(file))"
   ]
  },
  {
   "cell_type": "code",
   "execution_count": 3,
   "metadata": {},
   "outputs": [
    {
     "data": {
      "text/html": [
       "<div>\n",
       "<style scoped>\n",
       "    .dataframe tbody tr th:only-of-type {\n",
       "        vertical-align: middle;\n",
       "    }\n",
       "\n",
       "    .dataframe tbody tr th {\n",
       "        vertical-align: top;\n",
       "    }\n",
       "\n",
       "    .dataframe thead th {\n",
       "        text-align: right;\n",
       "    }\n",
       "</style>\n",
       "<table border=\"1\" class=\"dataframe\">\n",
       "  <thead>\n",
       "    <tr style=\"text-align: right;\">\n",
       "      <th></th>\n",
       "      <th>accelerometer</th>\n",
       "      <th>autosettle</th>\n",
       "      <th>clock rate</th>\n",
       "      <th>clockrate</th>\n",
       "      <th>cohort</th>\n",
       "      <th>system_time_at_creation</th>\n",
       "      <th>timestamp_at_creation</th>\n",
       "      <th>data</th>\n",
       "      <th>first_item_data</th>\n",
       "      <th>last_item_data</th>\n",
       "      <th>...</th>\n",
       "      <th>mPFC_vHPC_granger_all_frequencies_all_windows</th>\n",
       "      <th>vHPC_mPFC_granger_all_frequencies_all_windows</th>\n",
       "      <th>LH_MD_granger_all_frequencies_all_windows</th>\n",
       "      <th>MD_LH_granger_all_frequencies_all_windows</th>\n",
       "      <th>LH_vHPC_granger_all_frequencies_all_windows</th>\n",
       "      <th>vHPC_LH_granger_all_frequencies_all_windows</th>\n",
       "      <th>MD_vHPC_granger_all_frequencies_all_windows</th>\n",
       "      <th>vHPC_MD_granger_all_frequencies_all_windows</th>\n",
       "      <th>granger_timestamps</th>\n",
       "      <th>granger_calculation_frequencies</th>\n",
       "    </tr>\n",
       "  </thead>\n",
       "  <tbody>\n",
       "    <tr>\n",
       "      <th>0</th>\n",
       "      <td>0</td>\n",
       "      <td>0</td>\n",
       "      <td>NaN</td>\n",
       "      <td>20000</td>\n",
       "      <td>2</td>\n",
       "      <td>1692380198431</td>\n",
       "      <td>1024156</td>\n",
       "      <td>[[1923587], [1923588], [1923589], [1923590], [...</td>\n",
       "      <td>[1923587, 1923588, 1923589, 1923590, 1923591, ...</td>\n",
       "      <td>[1923587, 1923588, 1923589, 1923590, 1923591, ...</td>\n",
       "      <td>...</td>\n",
       "      <td>[[0.1443, 0.0874, 0.02318, 0.048, 0.01758, 0.1...</td>\n",
       "      <td>[[0.36, 0.3413, 0.2373, 0.1075, 0.04514, 0.518...</td>\n",
       "      <td>[[0.944, 0.292, 0.00887, 0.001174, 0.1242, 0.3...</td>\n",
       "      <td>[[0.3025, 0.3945, 0.0641, 0.1993, 0.371, 0.385...</td>\n",
       "      <td>[[0.355, 0.2225, 0.2854, 0.226, 0.308, 1.057, ...</td>\n",
       "      <td>[[1.241, 1.95, 1.188, 0.8027, 0.802, 1.043, 0....</td>\n",
       "      <td>[[0.4856, 0.2389, 0.312, 0.2212, 0.3452, 0.758...</td>\n",
       "      <td>[[2.023, 1.648, 1.169, 0.854, 0.8403, 1.096, 1...</td>\n",
       "      <td>[10000, 20000, 30000, 40000, 50000, 60000, 700...</td>\n",
       "      <td>[0.0, 1.0, 2.0, 3.0, 4.0, 5.0, 6.0, 7.0, 8.0, ...</td>\n",
       "    </tr>\n",
       "  </tbody>\n",
       "</table>\n",
       "<p>1 rows × 221 columns</p>\n",
       "</div>"
      ],
      "text/plain": [
       "  accelerometer autosettle clock rate clockrate  cohort  \\\n",
       "0             0          0        NaN     20000       2   \n",
       "\n",
       "  system_time_at_creation timestamp_at_creation  \\\n",
       "0           1692380198431               1024156   \n",
       "\n",
       "                                                data  \\\n",
       "0  [[1923587], [1923588], [1923589], [1923590], [...   \n",
       "\n",
       "                                     first_item_data  \\\n",
       "0  [1923587, 1923588, 1923589, 1923590, 1923591, ...   \n",
       "\n",
       "                                      last_item_data  ...  \\\n",
       "0  [1923587, 1923588, 1923589, 1923590, 1923591, ...  ...   \n",
       "\n",
       "       mPFC_vHPC_granger_all_frequencies_all_windows  \\\n",
       "0  [[0.1443, 0.0874, 0.02318, 0.048, 0.01758, 0.1...   \n",
       "\n",
       "       vHPC_mPFC_granger_all_frequencies_all_windows  \\\n",
       "0  [[0.36, 0.3413, 0.2373, 0.1075, 0.04514, 0.518...   \n",
       "\n",
       "           LH_MD_granger_all_frequencies_all_windows  \\\n",
       "0  [[0.944, 0.292, 0.00887, 0.001174, 0.1242, 0.3...   \n",
       "\n",
       "           MD_LH_granger_all_frequencies_all_windows  \\\n",
       "0  [[0.3025, 0.3945, 0.0641, 0.1993, 0.371, 0.385...   \n",
       "\n",
       "         LH_vHPC_granger_all_frequencies_all_windows  \\\n",
       "0  [[0.355, 0.2225, 0.2854, 0.226, 0.308, 1.057, ...   \n",
       "\n",
       "         vHPC_LH_granger_all_frequencies_all_windows  \\\n",
       "0  [[1.241, 1.95, 1.188, 0.8027, 0.802, 1.043, 0....   \n",
       "\n",
       "         MD_vHPC_granger_all_frequencies_all_windows  \\\n",
       "0  [[0.4856, 0.2389, 0.312, 0.2212, 0.3452, 0.758...   \n",
       "\n",
       "         vHPC_MD_granger_all_frequencies_all_windows  \\\n",
       "0  [[2.023, 1.648, 1.169, 0.854, 0.8403, 1.096, 1...   \n",
       "\n",
       "                                  granger_timestamps  \\\n",
       "0  [10000, 20000, 30000, 40000, 50000, 60000, 700...   \n",
       "\n",
       "                     granger_calculation_frequencies  \n",
       "0  [0.0, 1.0, 2.0, 3.0, 4.0, 5.0, 6.0, 7.0, 8.0, ...  \n",
       "\n",
       "[1 rows x 221 columns]"
      ]
     },
     "execution_count": 3,
     "metadata": {},
     "output_type": "execute_result"
    }
   ],
   "source": [
    "tester_df = unpickle_this(r\"D:\\social_ephys_pilot2_cum\\data\\phase2\\20230818_133620_1.4_CNF.rec\\outputs\\lfp_all_df.pkl\")\n",
    "tester_df"
   ]
  },
  {
   "cell_type": "markdown",
   "metadata": {},
   "source": [
    "looks like data, first_item_data, and last_item_data are the same things...\n",
    "sample numbers x3 "
   ]
  },
  {
   "cell_type": "code",
   "execution_count": 77,
   "metadata": {},
   "outputs": [
    {
     "data": {
      "text/plain": [
       "Index(['accelerometer', 'autosettle', 'clock rate', 'clockrate', 'cohort',\n",
       "       'system_time_at_creation', 'timestamp_at_creation', 'data',\n",
       "       'first_item_data', 'last_item_data', 'compile_date', 'description',\n",
       "       'session_dir', 'metadata_dir', 'fields', 'metadata_file',\n",
       "       'original_file', 'filename', 'controller_firmware',\n",
       "       'headstage_firmware', 'gyro', 'magnetometer', 'first_dtype_name',\n",
       "       'last_dtype_name', 'time_offset', 'byte_order', 'session_path',\n",
       "       'recording', 'controller_serialnum', 'headstage_serialnum', 'smartref',\n",
       "       'current_subject', 'subject', 'all_subjects', 'commit_tag',\n",
       "       'compile_time', 'first_timestamp', 'lfp_timestamps'],\n",
       "      dtype='object')"
      ]
     },
     "execution_count": 77,
     "metadata": {},
     "output_type": "execute_result"
    }
   ],
   "source": [
    "tester_df.columns[0:38]"
   ]
  },
  {
   "cell_type": "code",
   "execution_count": 109,
   "metadata": {},
   "outputs": [
    {
     "data": {
      "text/plain": [
       "0    1923587\n",
       "Name: first_timestamp, dtype: int64"
      ]
     },
     "execution_count": 109,
     "metadata": {},
     "output_type": "execute_result"
    }
   ],
   "source": [
    "tester_df.loc[:, 'first_timestamp']"
   ]
  },
  {
   "cell_type": "markdown",
   "metadata": {},
   "source": [
    "first_item_data should be dependent on the length of the items in data \n"
   ]
  },
  {
   "cell_type": "code",
   "execution_count": 124,
   "metadata": {},
   "outputs": [
    {
     "data": {
      "text/html": [
       "<div>\n",
       "<style scoped>\n",
       "    .dataframe tbody tr th:only-of-type {\n",
       "        vertical-align: middle;\n",
       "    }\n",
       "\n",
       "    .dataframe tbody tr th {\n",
       "        vertical-align: top;\n",
       "    }\n",
       "\n",
       "    .dataframe thead th {\n",
       "        text-align: right;\n",
       "    }\n",
       "</style>\n",
       "<table border=\"1\" class=\"dataframe\">\n",
       "  <thead>\n",
       "    <tr style=\"text-align: right;\">\n",
       "      <th></th>\n",
       "      <th>data</th>\n",
       "      <th>session_dir</th>\n",
       "      <th>original_file</th>\n",
       "      <th>session_path</th>\n",
       "      <th>subject</th>\n",
       "      <th>first_timestamp</th>\n",
       "    </tr>\n",
       "  </thead>\n",
       "  <tbody>\n",
       "    <tr>\n",
       "      <th>0</th>\n",
       "      <td>42011249</td>\n",
       "      <td>20230818_133620_1.4_CNF</td>\n",
       "      <td>20230818_133620_1_merged.rec</td>\n",
       "      <td>D:\\social_ephys_pilot2_cum\\data\\tester\\2023081...</td>\n",
       "      <td>1.4</td>\n",
       "      <td>1923587</td>\n",
       "    </tr>\n",
       "  </tbody>\n",
       "</table>\n",
       "</div>"
      ],
      "text/plain": [
       "       data              session_dir                 original_file  \\\n",
       "0  42011249  20230818_133620_1.4_CNF  20230818_133620_1_merged.rec   \n",
       "\n",
       "                                        session_path subject  first_timestamp  \n",
       "0  D:\\social_ephys_pilot2_cum\\data\\tester\\2023081...     1.4          1923587  "
      ]
     },
     "execution_count": 124,
     "metadata": {},
     "output_type": "execute_result"
    }
   ],
   "source": [
    "metadata_trodes = tester_df.iloc[:, 0:38]\n",
    "metadata_trodes = metadata_trodes[['data',\n",
    "                                   'session_dir',\n",
    "                                   'original_file',\n",
    "                                   'session_path',\n",
    "                                   'subject', \n",
    "                                   'first_timestamp']]\n",
    "\n",
    "metadata_trodes['data'] = metadata_trodes.at[0,'data'].shape[0]\n",
    "metadata_trodes"
   ]
  },
  {
   "cell_type": "code",
   "execution_count": 125,
   "metadata": {},
   "outputs": [
    {
     "name": "stdout",
     "output_type": "stream",
     "text": [
      "Row 0, Column mPFC_lfp_trace: numpy array with shape (2100535,)\n",
      "Row 0, Column MD_lfp_trace: numpy array with shape (2100535,)\n",
      "Row 0, Column LH_lfp_trace: numpy array with shape (2100535,)\n",
      "Row 0, Column BLA_lfp_trace: numpy array with shape (2100535,)\n",
      "Row 0, Column vHPC_lfp_trace: numpy array with shape (2100535,)\n"
     ]
    }
   ],
   "source": [
    "columns_to_stack = []\n",
    "for col in tester_df.columns[38:43]:\n",
    "    for index, value in tester_df[col].items():\n",
    "        print(f\"Row {index}, Column {col}: \", end=\"\")\n",
    "        columns_to_stack.append(col)\n",
    "        if isinstance(value, np.ndarray):\n",
    "            print(f\"numpy array with shape {value.shape}\")\n",
    "        else:\n",
    "            print(f\"type {type(value)}\")"
   ]
  },
  {
   "cell_type": "code",
   "execution_count": 136,
   "metadata": {},
   "outputs": [
    {
     "data": {
      "text/plain": [
       "(5, 2100535)"
      ]
     },
     "execution_count": 136,
     "metadata": {},
     "output_type": "execute_result"
    }
   ],
   "source": [
    "raw_lfp_array = np.vstack([tester_df[col].values[0] for col in columns_to_stack])\n",
    "raw_lfp_array.shape"
   ]
  },
  {
   "cell_type": "markdown",
   "metadata": {},
   "source": [
    "raw lfp traces"
   ]
  },
  {
   "cell_type": "code",
   "execution_count": 75,
   "metadata": {},
   "outputs": [
    {
     "data": {
      "text/html": [
       "<div>\n",
       "<style scoped>\n",
       "    .dataframe tbody tr th:only-of-type {\n",
       "        vertical-align: middle;\n",
       "    }\n",
       "\n",
       "    .dataframe tbody tr th {\n",
       "        vertical-align: top;\n",
       "    }\n",
       "\n",
       "    .dataframe thead th {\n",
       "        text-align: right;\n",
       "    }\n",
       "</style>\n",
       "<table border=\"1\" class=\"dataframe\">\n",
       "  <thead>\n",
       "    <tr style=\"text-align: right;\">\n",
       "      <th></th>\n",
       "      <th>trodes_version</th>\n",
       "      <th>qt_version</th>\n",
       "    </tr>\n",
       "  </thead>\n",
       "  <tbody>\n",
       "    <tr>\n",
       "      <th>0</th>\n",
       "      <td>2.3.4</td>\n",
       "      <td>6.2.2</td>\n",
       "    </tr>\n",
       "  </tbody>\n",
       "</table>\n",
       "</div>"
      ],
      "text/plain": [
       "  trodes_version qt_version\n",
       "0          2.3.4      6.2.2"
      ]
     },
     "execution_count": 75,
     "metadata": {},
     "output_type": "execute_result"
    }
   ],
   "source": [
    "tester_df.iloc[:,43:45]"
   ]
  },
  {
   "cell_type": "code",
   "execution_count": 74,
   "metadata": {},
   "outputs": [
    {
     "data": {
      "text/html": [
       "<div>\n",
       "<style scoped>\n",
       "    .dataframe tbody tr th:only-of-type {\n",
       "        vertical-align: middle;\n",
       "    }\n",
       "\n",
       "    .dataframe tbody tr th {\n",
       "        vertical-align: top;\n",
       "    }\n",
       "\n",
       "    .dataframe thead th {\n",
       "        text-align: right;\n",
       "    }\n",
       "</style>\n",
       "<table border=\"1\" class=\"dataframe\">\n",
       "  <thead>\n",
       "    <tr style=\"text-align: right;\">\n",
       "      <th></th>\n",
       "      <th>mPFC_lfp_MAD</th>\n",
       "      <th>MD_lfp_MAD</th>\n",
       "      <th>LH_lfp_MAD</th>\n",
       "      <th>BLA_lfp_MAD</th>\n",
       "      <th>vHPC_lfp_MAD</th>\n",
       "    </tr>\n",
       "  </thead>\n",
       "  <tbody>\n",
       "    <tr>\n",
       "      <th>0</th>\n",
       "      <td>54.404999</td>\n",
       "      <td>42.119999</td>\n",
       "      <td>40.169998</td>\n",
       "      <td>46.41</td>\n",
       "      <td>58.695</td>\n",
       "    </tr>\n",
       "  </tbody>\n",
       "</table>\n",
       "</div>"
      ],
      "text/plain": [
       "   mPFC_lfp_MAD  MD_lfp_MAD  LH_lfp_MAD  BLA_lfp_MAD  vHPC_lfp_MAD\n",
       "0     54.404999   42.119999   40.169998        46.41        58.695"
      ]
     },
     "execution_count": 74,
     "metadata": {},
     "output_type": "execute_result"
    }
   ],
   "source": [
    "tester_df.iloc[:, 45:50]"
   ]
  },
  {
   "cell_type": "markdown",
   "metadata": {},
   "source": [
    "median absolute deviation used for normalizing the signals"
   ]
  },
  {
   "cell_type": "code",
   "execution_count": 140,
   "metadata": {},
   "outputs": [
    {
     "name": "stdout",
     "output_type": "stream",
     "text": [
      "Row 0, Column mPFC_lfp_modified_zscore: numpy array with shape (2100535,)\n",
      "Row 0, Column MD_lfp_modified_zscore: numpy array with shape (2100535,)\n",
      "Row 0, Column LH_lfp_modified_zscore: numpy array with shape (2100535,)\n",
      "Row 0, Column BLA_lfp_modified_zscore: numpy array with shape (2100535,)\n",
      "Row 0, Column vHPC_lfp_modified_zscore: numpy array with shape (2100535,)\n"
     ]
    },
    {
     "data": {
      "text/plain": [
       "(5, 2100535)"
      ]
     },
     "execution_count": 140,
     "metadata": {},
     "output_type": "execute_result"
    }
   ],
   "source": [
    "columns_to_stack = []\n",
    "for col in tester_df.columns[50:55]:\n",
    "    for index, value in tester_df[col].items():\n",
    "        columns_to_stack.append(col)\n",
    "        print(f\"Row {index}, Column {col}: \", end=\"\")\n",
    "        if isinstance(value, np.ndarray):\n",
    "            print(f\"numpy array with shape {value.shape}\")\n",
    "        else:\n",
    "            print(f\"type {type(value)}\")\n",
    "\n",
    "zscore_lfp_array = np.vstack([tester_df[col].values[0] for col in columns_to_stack])\n",
    "zscore_lfp_array.shape"
   ]
  },
  {
   "cell_type": "markdown",
   "metadata": {},
   "source": [
    "these are normalized traces using z score to remove noise and then used as input to RMS\n"
   ]
  },
  {
   "cell_type": "code",
   "execution_count": 30,
   "metadata": {},
   "outputs": [
    {
     "data": {
      "text/plain": [
       "Index(['mPFC_lfp_RMS', 'MD_lfp_RMS', 'LH_lfp_RMS', 'BLA_lfp_RMS',\n",
       "       'vHPC_lfp_RMS'],\n",
       "      dtype='object')"
      ]
     },
     "execution_count": 30,
     "metadata": {},
     "output_type": "execute_result"
    }
   ],
   "source": [
    "tester_df.columns[55:60]"
   ]
  },
  {
   "cell_type": "code",
   "execution_count": 139,
   "metadata": {},
   "outputs": [
    {
     "name": "stdout",
     "output_type": "stream",
     "text": [
      "Row 0, Column mPFC_lfp_RMS: numpy array with shape (2100535,)\n",
      "Row 0, Column MD_lfp_RMS: numpy array with shape (2100535,)\n",
      "Row 0, Column LH_lfp_RMS: numpy array with shape (2100535,)\n",
      "Row 0, Column BLA_lfp_RMS: numpy array with shape (2100535,)\n",
      "Row 0, Column vHPC_lfp_RMS: numpy array with shape (2100535,)\n"
     ]
    },
    {
     "data": {
      "text/plain": [
       "(5, 2100535)"
      ]
     },
     "execution_count": 139,
     "metadata": {},
     "output_type": "execute_result"
    }
   ],
   "source": [
    "columns_to_stack = []\n",
    "for col in tester_df.columns[55:60]:\n",
    "    for index, value in tester_df[col].items():\n",
    "        columns_to_stack.append(col)\n",
    "        print(f\"Row {index}, Column {col}: \", end=\"\")\n",
    "        if isinstance(value, np.ndarray):\n",
    "            print(f\"numpy array with shape {value.shape}\")\n",
    "        else:\n",
    "            print(f\"type {type(value)}\")\n",
    "rms_lfp_array = np.vstack([tester_df[col].values[0] for col in columns_to_stack])\n",
    "rms_lfp_array.shape            "
   ]
  },
  {
   "cell_type": "markdown",
   "metadata": {},
   "source": [
    "this allows us to compare across animals and this is what we calulcate power on \n",
    "root square of the mean"
   ]
  },
  {
   "cell_type": "code",
   "execution_count": 95,
   "metadata": {},
   "outputs": [
    {
     "data": {
      "text/html": [
       "<div>\n",
       "<style scoped>\n",
       "    .dataframe tbody tr th:only-of-type {\n",
       "        vertical-align: middle;\n",
       "    }\n",
       "\n",
       "    .dataframe tbody tr th {\n",
       "        vertical-align: top;\n",
       "    }\n",
       "\n",
       "    .dataframe thead th {\n",
       "        text-align: right;\n",
       "    }\n",
       "</style>\n",
       "<table border=\"1\" class=\"dataframe\">\n",
       "  <thead>\n",
       "    <tr style=\"text-align: right;\">\n",
       "      <th></th>\n",
       "      <th>mPFC_lfp_mask</th>\n",
       "      <th>MD_lfp_mask</th>\n",
       "      <th>LH_lfp_mask</th>\n",
       "      <th>BLA_lfp_mask</th>\n",
       "      <th>vHPC_lfp_mask</th>\n",
       "    </tr>\n",
       "  </thead>\n",
       "  <tbody>\n",
       "    <tr>\n",
       "      <th>0</th>\n",
       "      <td>[False, False, False, False, False, False, Fal...</td>\n",
       "      <td>[False, False, False, False, False, False, Fal...</td>\n",
       "      <td>[False, False, False, False, False, False, Fal...</td>\n",
       "      <td>[False, False, False, False, False, False, Fal...</td>\n",
       "      <td>[False, False, False, False, False, False, Fal...</td>\n",
       "    </tr>\n",
       "  </tbody>\n",
       "</table>\n",
       "</div>"
      ],
      "text/plain": [
       "                                       mPFC_lfp_mask  \\\n",
       "0  [False, False, False, False, False, False, Fal...   \n",
       "\n",
       "                                         MD_lfp_mask  \\\n",
       "0  [False, False, False, False, False, False, Fal...   \n",
       "\n",
       "                                         LH_lfp_mask  \\\n",
       "0  [False, False, False, False, False, False, Fal...   \n",
       "\n",
       "                                        BLA_lfp_mask  \\\n",
       "0  [False, False, False, False, False, False, Fal...   \n",
       "\n",
       "                                       vHPC_lfp_mask  \n",
       "0  [False, False, False, False, False, False, Fal...  "
      ]
     },
     "execution_count": 95,
     "metadata": {},
     "output_type": "execute_result"
    }
   ],
   "source": [
    "tester_df.iloc[:,60:65]"
   ]
  },
  {
   "cell_type": "code",
   "execution_count": 141,
   "metadata": {},
   "outputs": [
    {
     "name": "stdout",
     "output_type": "stream",
     "text": [
      "Row 0, Column mPFC_lfp_mask: numpy array with shape (2100535,)\n",
      "Row 0, Column MD_lfp_mask: numpy array with shape (2100535,)\n",
      "Row 0, Column LH_lfp_mask: numpy array with shape (2100535,)\n",
      "Row 0, Column BLA_lfp_mask: numpy array with shape (2100535,)\n",
      "Row 0, Column vHPC_lfp_mask: numpy array with shape (2100535,)\n"
     ]
    },
    {
     "data": {
      "text/plain": [
       "(5, 2100535)"
      ]
     },
     "execution_count": 141,
     "metadata": {},
     "output_type": "execute_result"
    }
   ],
   "source": [
    "columns_to_stack = []\n",
    "for col in tester_df.columns[60:65]:\n",
    "    for index, value in tester_df[col].items():\n",
    "        columns_to_stack.append(col)\n",
    "        print(f\"Row {index}, Column {col}: \", end=\"\")\n",
    "        if isinstance(value, np.ndarray):\n",
    "            print(f\"numpy array with shape {value.shape}\")\n",
    "        else:\n",
    "            print(f\"type {type(value)}\")\n"
   ]
  },
  {
   "cell_type": "markdown",
   "metadata": {},
   "source": [
    "these are boolean numpy arrays false = no noise, true = noise"
   ]
  },
  {
   "cell_type": "code",
   "execution_count": 80,
   "metadata": {},
   "outputs": [
    {
     "name": "stdout",
     "output_type": "stream",
     "text": [
      "Row 0, Column mPFC_lfp_trace_filtered: numpy array with shape (2100535,)\n",
      "Row 0, Column MD_lfp_trace_filtered: numpy array with shape (2100535,)\n",
      "Row 0, Column LH_lfp_trace_filtered: numpy array with shape (2100535,)\n",
      "Row 0, Column BLA_lfp_trace_filtered: numpy array with shape (2100535,)\n",
      "Row 0, Column vHPC_lfp_trace_filtered: numpy array with shape (2100535,)\n"
     ]
    }
   ],
   "source": [
    "for col in tester_df.columns[65:70]:\n",
    "    for index, value in tester_df[col].items():\n",
    "        print(f\"Row {index}, Column {col}: \", end=\"\")\n",
    "        if isinstance(value, np.ndarray):\n",
    "            print(f\"numpy array with shape {value.shape}\")\n",
    "        else:\n",
    "            print(f\"type {type(value)}\")"
   ]
  },
  {
   "cell_type": "markdown",
   "metadata": {},
   "source": [
    "this is filtered for noise but not RMS-ed"
   ]
  },
  {
   "cell_type": "code",
   "execution_count": 142,
   "metadata": {},
   "outputs": [
    {
     "name": "stdout",
     "output_type": "stream",
     "text": [
      "Row 0, Column mPFC_lfp_RMS_filtered: numpy array with shape (2100535,)\n",
      "Row 0, Column MD_lfp_RMS_filtered: numpy array with shape (2100535,)\n",
      "Row 0, Column LH_lfp_RMS_filtered: numpy array with shape (2100535,)\n",
      "Row 0, Column BLA_lfp_RMS_filtered: numpy array with shape (2100535,)\n",
      "Row 0, Column vHPC_lfp_RMS_filtered: numpy array with shape (2100535,)\n"
     ]
    },
    {
     "data": {
      "text/plain": [
       "(5, 2100535)"
      ]
     },
     "execution_count": 142,
     "metadata": {},
     "output_type": "execute_result"
    }
   ],
   "source": [
    "columns_to_stack = []\n",
    "for col in tester_df.columns[70:75]:\n",
    "    for index, value in tester_df[col].items():\n",
    "        columns_to_stack.append(col)\n",
    "        print(f\"Row {index}, Column {col}: \", end=\"\")\n",
    "        if isinstance(value, np.ndarray):\n",
    "            print(f\"numpy array with shape {value.shape}\")\n",
    "        else:\n",
    "            print(f\"type {type(value)}\")\n",
    "rms_filtered_lfp_array = np.vstack([tester_df[col].values[0] for col in columns_to_stack])\n",
    "rms_filtered_lfp_array.shape "
   ]
  },
  {
   "cell_type": "markdown",
   "metadata": {},
   "source": [
    "filtered for noise with RMS "
   ]
  },
  {
   "cell_type": "code",
   "execution_count": 82,
   "metadata": {},
   "outputs": [
    {
     "name": "stdout",
     "output_type": "stream",
     "text": [
      "Row 0, Column mPFC_trace_power_all_frequencies_all_windows: numpy array with shape (4200, 500)\n",
      "Row 0, Column MD_trace_power_all_frequencies_all_windows: numpy array with shape (4200, 500)\n",
      "Row 0, Column LH_trace_power_all_frequencies_all_windows: numpy array with shape (4200, 500)\n",
      "Row 0, Column BLA_trace_power_all_frequencies_all_windows: numpy array with shape (4200, 500)\n",
      "Row 0, Column vHPC_trace_power_all_frequencies_all_windows: numpy array with shape (4200, 500)\n",
      "Row 0, Column mPFC_RMS_power_all_frequencies_all_windows: numpy array with shape (4200, 500)\n",
      "Row 0, Column MD_RMS_power_all_frequencies_all_windows: numpy array with shape (4200, 500)\n",
      "Row 0, Column LH_RMS_power_all_frequencies_all_windows: numpy array with shape (4200, 500)\n",
      "Row 0, Column BLA_RMS_power_all_frequencies_all_windows: numpy array with shape (4200, 500)\n",
      "Row 0, Column vHPC_RMS_power_all_frequencies_all_windows: numpy array with shape (4200, 500)\n",
      "Row 0, Column mPFC_trace_filtered_power_all_frequencies_all_windows: numpy array with shape (4200, 500)\n",
      "Row 0, Column MD_trace_filtered_power_all_frequencies_all_windows: numpy array with shape (4200, 500)\n",
      "Row 0, Column LH_trace_filtered_power_all_frequencies_all_windows: numpy array with shape (4200, 500)\n",
      "Row 0, Column BLA_trace_filtered_power_all_frequencies_all_windows: numpy array with shape (4200, 500)\n",
      "Row 0, Column vHPC_trace_filtered_power_all_frequencies_all_windows: numpy array with shape (4200, 500)\n",
      "Row 0, Column mPFC_RMS_filtered_power_all_frequencies_all_windows: numpy array with shape (4200, 500)\n",
      "Row 0, Column MD_RMS_filtered_power_all_frequencies_all_windows: numpy array with shape (4200, 500)\n",
      "Row 0, Column LH_RMS_filtered_power_all_frequencies_all_windows: numpy array with shape (4200, 500)\n",
      "Row 0, Column BLA_RMS_filtered_power_all_frequencies_all_windows: numpy array with shape (4200, 500)\n",
      "Row 0, Column vHPC_RMS_filtered_power_all_frequencies_all_windows: numpy array with shape (4200, 500)\n"
     ]
    }
   ],
   "source": [
    "for col in tester_df.columns[75:95]:\n",
    "    for index, value in tester_df[col].items():\n",
    "        print(f\"Row {index}, Column {col}: \", end=\"\")\n",
    "        if isinstance(value, np.ndarray):\n",
    "            print(f\"numpy array with shape {value.shape}\")\n",
    "        else:\n",
    "            print(f\"type {type(value)}\")"
   ]
  },
  {
   "cell_type": "markdown",
   "metadata": {},
   "source": [
    "the only columns i should be looking at are RMS_Filtered_power \n",
    "2 hz time windows \n",
    "\n",
    "42011249 is taken 20000 Hz\n",
    "2100535 is 1000 Hz (LFP down sample)\n",
    "\n",
    "1 sec with .5 overlap --> we have 2 data points per second \n",
    "500 frequencies (which are listed below) "
   ]
  },
  {
   "cell_type": "code",
   "execution_count": 154,
   "metadata": {},
   "outputs": [
    {
     "name": "stdout",
     "output_type": "stream",
     "text": [
      "Row 0, Column mPFC_RMS_filtered_power_all_frequencies_all_windows: numpy array with shape (4200, 500)\n",
      "Row 0, Column MD_RMS_filtered_power_all_frequencies_all_windows: numpy array with shape (4200, 500)\n",
      "Row 0, Column LH_RMS_filtered_power_all_frequencies_all_windows: numpy array with shape (4200, 500)\n",
      "Row 0, Column BLA_RMS_filtered_power_all_frequencies_all_windows: numpy array with shape (4200, 500)\n",
      "Row 0, Column vHPC_RMS_filtered_power_all_frequencies_all_windows: numpy array with shape (4200, 500)\n"
     ]
    },
    {
     "data": {
      "text/plain": [
       "(5, 4200, 500)"
      ]
     },
     "execution_count": 154,
     "metadata": {},
     "output_type": "execute_result"
    }
   ],
   "source": [
    "columns_to_stack = []\n",
    "for col in tester_df.columns[90:95]:\n",
    "    for index, value in tester_df[col].items():\n",
    "        columns_to_stack.append(col)\n",
    "        print(f\"Row {index}, Column {col}: \", end=\"\")\n",
    "        if isinstance(value, np.ndarray):\n",
    "            print(f\"numpy array with shape {value.shape}\")\n",
    "        else:\n",
    "            print(f\"type {type(value)}\")\n",
    "\n",
    "power_lfp = np.stack([tester_df[col].values[0] for col in columns_to_stack], axis = 0)\n",
    "power_lfp.shape"
   ]
  },
  {
   "cell_type": "code",
   "execution_count": 84,
   "metadata": {},
   "outputs": [
    {
     "name": "stdout",
     "output_type": "stream",
     "text": [
      "Row 0, Column power_timestamps: numpy array with shape (4200,)\n",
      "Row 0, Column power_calculation_frequencies: numpy array with shape (500,)\n"
     ]
    }
   ],
   "source": [
    "for col in tester_df.columns[95:97]:\n",
    "    for index, value in tester_df[col].items():\n",
    "        print(f\"Row {index}, Column {col}: \", end=\"\")\n",
    "        if isinstance(value, np.ndarray):\n",
    "            print(f\"numpy array with shape {value.shape}\")\n",
    "        else:\n",
    "            print(f\"type {type(value)}\")"
   ]
  },
  {
   "cell_type": "code",
   "execution_count": 85,
   "metadata": {},
   "outputs": [
    {
     "name": "stdout",
     "output_type": "stream",
     "text": [
      "Row 0, Column mPFC_theta_band: numpy array with shape (2100535,)\n",
      "Row 0, Column MD_theta_band: numpy array with shape (2100535,)\n",
      "Row 0, Column LH_theta_band: numpy array with shape (2100535,)\n",
      "Row 0, Column BLA_theta_band: numpy array with shape (2100535,)\n",
      "Row 0, Column vHPC_theta_band: numpy array with shape (2100535,)\n",
      "Row 0, Column mPFC_gamma_band: numpy array with shape (2100535,)\n",
      "Row 0, Column MD_gamma_band: numpy array with shape (2100535,)\n",
      "Row 0, Column LH_gamma_band: numpy array with shape (2100535,)\n",
      "Row 0, Column BLA_gamma_band: numpy array with shape (2100535,)\n",
      "Row 0, Column vHPC_gamma_band: numpy array with shape (2100535,)\n"
     ]
    }
   ],
   "source": [
    "for col in tester_df.columns[97:107]:\n",
    "    for index, value in tester_df[col].items():\n",
    "        print(f\"Row {index}, Column {col}: \", end=\"\")\n",
    "        if isinstance(value, np.ndarray):\n",
    "            print(f\"numpy array with shape {value.shape}\")\n",
    "        else:\n",
    "            print(f\"type {type(value)}\")"
   ]
  },
  {
   "cell_type": "markdown",
   "metadata": {},
   "source": [
    "should add documentation for what band theta is "
   ]
  },
  {
   "cell_type": "code",
   "execution_count": 49,
   "metadata": {},
   "outputs": [
    {
     "data": {
      "text/plain": [
       "Index(['mPFC_theta_phase', 'MD_theta_phase', 'LH_theta_phase',\n",
       "       'BLA_theta_phase', 'vHPC_theta_phase', 'mPFC_gamma_phase',\n",
       "       'MD_gamma_phase', 'LH_gamma_phase', 'BLA_gamma_phase',\n",
       "       'vHPC_gamma_phase'],\n",
       "      dtype='object')"
      ]
     },
     "execution_count": 49,
     "metadata": {},
     "output_type": "execute_result"
    }
   ],
   "source": [
    "tester_df.columns[107:117]"
   ]
  },
  {
   "cell_type": "code",
   "execution_count": 86,
   "metadata": {},
   "outputs": [
    {
     "name": "stdout",
     "output_type": "stream",
     "text": [
      "Row 0, Column mPFC_theta_phase: numpy array with shape (2100535,)\n",
      "Row 0, Column MD_theta_phase: numpy array with shape (2100535,)\n",
      "Row 0, Column LH_theta_phase: numpy array with shape (2100535,)\n",
      "Row 0, Column BLA_theta_phase: numpy array with shape (2100535,)\n",
      "Row 0, Column vHPC_theta_phase: numpy array with shape (2100535,)\n",
      "Row 0, Column mPFC_gamma_phase: numpy array with shape (2100535,)\n",
      "Row 0, Column MD_gamma_phase: numpy array with shape (2100535,)\n",
      "Row 0, Column LH_gamma_phase: numpy array with shape (2100535,)\n",
      "Row 0, Column BLA_gamma_phase: numpy array with shape (2100535,)\n",
      "Row 0, Column vHPC_gamma_phase: numpy array with shape (2100535,)\n"
     ]
    }
   ],
   "source": [
    "for col in tester_df.columns[107:117]:\n",
    "    for index, value in tester_df[col].items():\n",
    "        print(f\"Row {index}, Column {col}: \", end=\"\")\n",
    "        if isinstance(value, np.ndarray):\n",
    "            print(f\"numpy array with shape {value.shape}\")\n",
    "        else:\n",
    "            print(f\"type {type(value)}\")"
   ]
  },
  {
   "cell_type": "code",
   "execution_count": 63,
   "metadata": {},
   "outputs": [
    {
     "data": {
      "text/plain": [
       "Index(['mPFC_LH_trace_filtered_coherence_all_frequencies_all_windows',\n",
       "       'mPFC_LH_trace_coherence_all_frequencies_all_windows',\n",
       "       'mPFC_LH_RMS_filtered_coherence_all_frequencies_all_windows',\n",
       "       'mPFC_LH_RMS_coherence_all_frequencies_all_windows',\n",
       "       'mPFC_LH_trace_power_all_frequencies_all_windows_coherence_all_frequencies_all_windows',\n",
       "       'mPFC_LH_RMS_filtered_power_all_frequencies_all_windows_coherence_all_frequencies_all_windows',\n",
       "       'mPFC_LH_RMS_power_all_frequencies_all_windows_coherence_all_frequencies_all_windows',\n",
       "       'mPFC_LH_trace_filtered_power_all_frequencies_all_windows_coherence_all_frequencies_all_windows'],\n",
       "      dtype='object')"
      ]
     },
     "execution_count": 63,
     "metadata": {},
     "output_type": "execute_result"
    }
   ],
   "source": [
    "tester_df.columns[117:125]"
   ]
  },
  {
   "cell_type": "code",
   "execution_count": 87,
   "metadata": {},
   "outputs": [
    {
     "name": "stdout",
     "output_type": "stream",
     "text": [
      "Row 0, Column mPFC_LH_trace_filtered_coherence_all_frequencies_all_windows: numpy array with shape (4200, 500)\n",
      "Row 0, Column mPFC_LH_trace_coherence_all_frequencies_all_windows: numpy array with shape (4200, 500)\n",
      "Row 0, Column mPFC_LH_RMS_filtered_coherence_all_frequencies_all_windows: numpy array with shape (4200, 500)\n",
      "Row 0, Column mPFC_LH_RMS_coherence_all_frequencies_all_windows: numpy array with shape (4200, 500)\n",
      "Row 0, Column mPFC_LH_trace_power_all_frequencies_all_windows_coherence_all_frequencies_all_windows: numpy array with shape (0, 500)\n",
      "Row 0, Column mPFC_LH_RMS_filtered_power_all_frequencies_all_windows_coherence_all_frequencies_all_windows: numpy array with shape (0, 500)\n",
      "Row 0, Column mPFC_LH_RMS_power_all_frequencies_all_windows_coherence_all_frequencies_all_windows: numpy array with shape (0, 500)\n",
      "Row 0, Column mPFC_LH_trace_filtered_power_all_frequencies_all_windows_coherence_all_frequencies_all_windows: numpy array with shape (0, 500)\n"
     ]
    }
   ],
   "source": [
    "for col in tester_df.columns[117:125]:\n",
    "    for index, value in tester_df[col].items():\n",
    "        print(f\"Row {index}, Column {col}: \", end=\"\")\n",
    "        if isinstance(value, np.ndarray):\n",
    "            print(f\"numpy array with shape {value.shape}\")\n",
    "        else:\n",
    "            print(f\"type {type(value)}\")"
   ]
  },
  {
   "cell_type": "markdown",
   "metadata": {},
   "source": [
    "in theory - this should only be done on the RMS filtered although in theory in theory i should check if the filter is good for my data \n",
    "a parameter should be the number of SD to be filtered out , with a default of 4, another function to be added to this class should be plotting given brain regions of a zscored data filtered \n",
    "also there should be only column for the calculation made for frequencies across all your brain regions i.e. power frequencies, coherence frequencies etc. "
   ]
  },
  {
   "cell_type": "code",
   "execution_count": 106,
   "metadata": {},
   "outputs": [
    {
     "data": {
      "text/plain": [
       "0    [[0.866, 0.7554, 0.7554, 0.6367, 0.68, 0.882, ...\n",
       "Name: mPFC_LH_trace_filtered_coherence_all_frequencies_all_windows, dtype: object"
      ]
     },
     "execution_count": 106,
     "metadata": {},
     "output_type": "execute_result"
    }
   ],
   "source": [
    "tester_df.iloc[:,117]"
   ]
  },
  {
   "cell_type": "code",
   "execution_count": 103,
   "metadata": {},
   "outputs": [
    {
     "name": "stdout",
     "output_type": "stream",
     "text": [
      "0    []\n",
      "Name: mPFC_LH_trace_filtered_power_all_frequencies_all_windows_coherence_all_frequencies_all_windows, dtype: object\n"
     ]
    }
   ],
   "source": [
    "val = tester_df['mPFC_LH_trace_filtered_power_all_frequencies_all_windows_coherence_all_frequencies_all_windows']\n",
    "print(val)"
   ]
  },
  {
   "cell_type": "code",
   "execution_count": 65,
   "metadata": {},
   "outputs": [
    {
     "data": {
      "text/plain": [
       "Index(['mPFC_BLA_trace_filtered_coherence_all_frequencies_all_windows',\n",
       "       'mPFC_BLA_trace_coherence_all_frequencies_all_windows',\n",
       "       'mPFC_BLA_RMS_filtered_coherence_all_frequencies_all_windows',\n",
       "       'mPFC_BLA_RMS_coherence_all_frequencies_all_windows',\n",
       "       'mPFC_BLA_trace_power_all_frequencies_all_windows_coherence_all_frequencies_all_windows',\n",
       "       'mPFC_BLA_RMS_filtered_power_all_frequencies_all_windows_coherence_all_frequencies_all_windows',\n",
       "       'mPFC_BLA_RMS_power_all_frequencies_all_windows_coherence_all_frequencies_all_windows',\n",
       "       'mPFC_BLA_trace_filtered_power_all_frequencies_all_windows_coherence_all_frequencies_all_windows'],\n",
       "      dtype='object')"
      ]
     },
     "execution_count": 65,
     "metadata": {},
     "output_type": "execute_result"
    }
   ],
   "source": [
    "tester_df.columns[125:133]"
   ]
  },
  {
   "cell_type": "code",
   "execution_count": 67,
   "metadata": {},
   "outputs": [
    {
     "data": {
      "text/plain": [
       "Index(['mPFC_MD_trace_filtered_coherence_all_frequencies_all_windows',\n",
       "       'mPFC_MD_trace_coherence_all_frequencies_all_windows',\n",
       "       'mPFC_MD_RMS_filtered_coherence_all_frequencies_all_windows',\n",
       "       'mPFC_MD_RMS_coherence_all_frequencies_all_windows',\n",
       "       'mPFC_MD_trace_power_all_frequencies_all_windows_coherence_all_frequencies_all_windows',\n",
       "       'mPFC_MD_RMS_filtered_power_all_frequencies_all_windows_coherence_all_frequencies_all_windows',\n",
       "       'mPFC_MD_RMS_power_all_frequencies_all_windows_coherence_all_frequencies_all_windows',\n",
       "       'mPFC_MD_trace_filtered_power_all_frequencies_all_windows_coherence_all_frequencies_all_windows'],\n",
       "      dtype='object')"
      ]
     },
     "execution_count": 67,
     "metadata": {},
     "output_type": "execute_result"
    }
   ],
   "source": [
    "tester_df.columns[133:141]"
   ]
  },
  {
   "cell_type": "code",
   "execution_count": 92,
   "metadata": {},
   "outputs": [
    {
     "name": "stdout",
     "output_type": "stream",
     "text": [
      "Row 0, Column coherence_timestamps: numpy array with shape (4200,)\n",
      "Row 0, Column coherence_calculation_frequencies: numpy array with shape (500,)\n"
     ]
    }
   ],
   "source": [
    "for col in tester_df.columns[197:199]:\n",
    "    for index, value in tester_df[col].items():\n",
    "        print(f\"Row {index}, Column {col}: \", end=\"\")\n",
    "        if isinstance(value, np.ndarray):\n",
    "            print(f\"numpy array with shape {value.shape}\")\n",
    "        else:\n",
    "            print(f\"type {type(value)}\")"
   ]
  },
  {
   "cell_type": "code",
   "execution_count": 93,
   "metadata": {},
   "outputs": [
    {
     "name": "stdout",
     "output_type": "stream",
     "text": [
      "Row 0, Column BLA_mPFC_granger_all_frequencies_all_windows: numpy array with shape (4200, 500)\n",
      "Row 0, Column mPFC_BLA_granger_all_frequencies_all_windows: numpy array with shape (4200, 500)\n",
      "Row 0, Column BLA_LH_granger_all_frequencies_all_windows: numpy array with shape (4200, 500)\n",
      "Row 0, Column LH_BLA_granger_all_frequencies_all_windows: numpy array with shape (4200, 500)\n",
      "Row 0, Column BLA_MD_granger_all_frequencies_all_windows: numpy array with shape (4200, 500)\n",
      "Row 0, Column MD_BLA_granger_all_frequencies_all_windows: numpy array with shape (4200, 500)\n",
      "Row 0, Column BLA_vHPC_granger_all_frequencies_all_windows: numpy array with shape (4200, 500)\n",
      "Row 0, Column vHPC_BLA_granger_all_frequencies_all_windows: numpy array with shape (4200, 500)\n",
      "Row 0, Column mPFC_LH_granger_all_frequencies_all_windows: numpy array with shape (4200, 500)\n",
      "Row 0, Column LH_mPFC_granger_all_frequencies_all_windows: numpy array with shape (4200, 500)\n",
      "Row 0, Column mPFC_MD_granger_all_frequencies_all_windows: numpy array with shape (4200, 500)\n",
      "Row 0, Column MD_mPFC_granger_all_frequencies_all_windows: numpy array with shape (4200, 500)\n",
      "Row 0, Column mPFC_vHPC_granger_all_frequencies_all_windows: numpy array with shape (4200, 500)\n",
      "Row 0, Column vHPC_mPFC_granger_all_frequencies_all_windows: numpy array with shape (4200, 500)\n",
      "Row 0, Column LH_MD_granger_all_frequencies_all_windows: numpy array with shape (4200, 500)\n",
      "Row 0, Column MD_LH_granger_all_frequencies_all_windows: numpy array with shape (4200, 500)\n",
      "Row 0, Column LH_vHPC_granger_all_frequencies_all_windows: numpy array with shape (4200, 500)\n",
      "Row 0, Column vHPC_LH_granger_all_frequencies_all_windows: numpy array with shape (4200, 500)\n",
      "Row 0, Column MD_vHPC_granger_all_frequencies_all_windows: numpy array with shape (4200, 500)\n",
      "Row 0, Column vHPC_MD_granger_all_frequencies_all_windows: numpy array with shape (4200, 500)\n",
      "Row 0, Column granger_timestamps: numpy array with shape (4200,)\n",
      "Row 0, Column granger_calculation_frequencies: numpy array with shape (500,)\n"
     ]
    }
   ],
   "source": [
    "for col in tester_df.columns[199:221]:\n",
    "    for index, value in tester_df[col].items():\n",
    "        print(f\"Row {index}, Column {col}: \", end=\"\")\n",
    "        if isinstance(value, np.ndarray):\n",
    "            print(f\"numpy array with shape {value.shape}\")\n",
    "        else:\n",
    "            print(f\"type {type(value)}\")"
   ]
  },
  {
   "cell_type": "code",
   "execution_count": null,
   "metadata": {},
   "outputs": [],
   "source": []
  }
 ],
 "metadata": {
  "kernelspec": {
   "display_name": "ephys_analysis",
   "language": "python",
   "name": "python3"
  },
  "language_info": {
   "codemirror_mode": {
    "name": "ipython",
    "version": 3
   },
   "file_extension": ".py",
   "mimetype": "text/x-python",
   "name": "python",
   "nbconvert_exporter": "python",
   "pygments_lexer": "ipython3",
   "version": "3.10.9"
  }
 },
 "nbformat": 4,
 "nbformat_minor": 2
}
