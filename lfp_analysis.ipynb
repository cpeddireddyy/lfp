{
 "cells": [
  {
   "cell_type": "markdown",
   "source": [
    "#Instructions to run lfp_analysis.py"
   ],
   "metadata": {
    "collapsed": false
   }
  },
  {
   "cell_type": "code",
   "execution_count": null,
   "outputs": [],
   "source": [
    "!pip install -r requirements.txt"
   ],
   "metadata": {
    "collapsed": false,
    "pycharm": {
     "is_executing": true
    }
   }
  },
  {
   "cell_type": "code",
   "execution_count": null,
   "outputs": [],
   "source": [
    "import lfp_analysis\n",
    "import os\n",
    "import glob"
   ],
   "metadata": {
    "collapsed": false
   }
  },
  {
   "cell_type": "markdown",
   "source": [
    "###Convert the video files to mp4 format by passing the experiment directory"
   ],
   "metadata": {
    "collapsed": false
   }
  },
  {
   "cell_type": "code",
   "execution_count": null,
   "outputs": [],
   "source": [
    "experiment_dir = \"/Volumes/chaitra/reward_competition_extension/data\"\n",
    "lfp_analysis.convert_to_mp4(experiment_dir)\n",
    "\n",
    "# Loop through all the directories in the experiment directory\n",
    "for directory in os.listdir(experiment_dir):\n",
    "    if os.path.isdir(os.path.join(experiment_dir, directory)):\n",
    "        lfp_analysis.convert_to_mp4(os.path.join(experiment_dir, directory))"
   ],
   "metadata": {
    "collapsed": false
   }
  },
  {
   "cell_type": "code",
   "execution_count": null,
   "outputs": [],
   "source": [
    "experiment_description = \"chaitra_test\"\n",
    "\n",
    "channel_map_path = \"input/channel_mapping.xlsx\"\n",
    "events_path = \"input/events.xlsx\"\n",
    "labels_path = \"input/labels.xlsx\"\n",
    "\n",
    "input_dir = \"/Volumes/chaitra/reward_competition_extension/data/standard/2023_06_*/*.rec\"\n",
    "sleap_path = \"/Volumes/chaitra/reward_competition_extension/data/proc/sleap/\"\n",
    "phy_path = \"/Volumes/chaitra/reward_competition_extension/data/phy/\"\n",
    "\n",
    "#This list has to be in the same order as the files in the input directory\n",
    "list_subjects = [\"1.2\", \"1.2; 1.4\", \"1.4\"]"
   ],
   "metadata": {
    "collapsed": false
   }
  },
  {
   "cell_type": "code",
   "execution_count": null,
   "outputs": [],
   "source": [
    "if (not os.path.exists(channel_map_path) or not os.path.exists(events_path) or not os.path.exists(labels_path)):\n",
    "    raise Exception(\"Please provide the correct path for channel_map_path, events_path and labels_path\")\n",
    "\n",
    "if not os.path.exists(sleap_path):\n",
    "    raise Exception(\"Please provide the correct path for sleap_path\")\n",
    "\n",
    "if not os.path.exists(phy_path):\n",
    "    raise Exception(\"Please provide the correct path for phy_path\")\n",
    "\n",
    "if not os.path.exists(input_dir):\n",
    "    raise Exception(\"Please provide the correct path for input_dir\")\n",
    "\n",
    "if len(list_subjects) == 0:\n",
    "    raise Exception(\"Provided list_subjects is empty\")\n",
    "\n",
    "if len(list_subjects) != len(glob.glob(input_dir)):\n",
    "    raise Exception(\"Number of subjects in list_subjects is not equal to the number of files in the input directory\")"
   ],
   "metadata": {
    "collapsed": false
   }
  },
  {
   "cell_type": "code",
   "execution_count": null,
   "outputs": [],
   "source": [
    "# Create Expr object\n",
    "my_expr = lfp_analysis.LfpExperiment(experiment=experiment_description)"
   ],
   "metadata": {
    "collapsed": false
   }
  },
  {
   "cell_type": "code",
   "execution_count": null,
   "outputs": [],
   "source": [
    "counter = 0\n",
    "# Loop through input directory and create LFP objects for each session\n",
    "for file in glob.glob(input_dir):\n",
    "    lfp = lfp_analysis.LfpRecordingObject(path=file,\n",
    "                                 channel_map_path=channel_map_path,\n",
    "                                 sleap_path=sleap_path,\n",
    "                                 events_path=events_path,\n",
    "                                 phy_curation_path=phy_path,\n",
    "                                 labels_path=labels_path,\n",
    "                                 subject=list_subjects[counter])\n",
    "    my_expr.add_lfp_object(lfp_object=lfp, subject=lfp.subject)\n",
    "    counter += 1"
   ],
   "metadata": {
    "collapsed": false
   }
  }
 ],
 "metadata": {
  "kernelspec": {
   "display_name": "Python 3",
   "language": "python",
   "name": "python3"
  },
  "language_info": {
   "codemirror_mode": {
    "name": "ipython",
    "version": 2
   },
   "file_extension": ".py",
   "mimetype": "text/x-python",
   "name": "python",
   "nbconvert_exporter": "python",
   "pygments_lexer": "ipython2",
   "version": "2.7.6"
  }
 },
 "nbformat": 4,
 "nbformat_minor": 0
}
