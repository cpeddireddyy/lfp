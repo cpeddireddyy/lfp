{
 "cells": [
  {
   "cell_type": "markdown",
   "source": [
    "#Instructions to run lfp_analysis.py"
   ],
   "metadata": {
    "collapsed": false
   }
  },
  {
   "cell_type": "code",
   "execution_count": 1,
   "outputs": [
    {
     "name": "stdout",
     "output_type": "stream",
     "text": [
      "Requirement already satisfied: h5py==3.11.0 in ./venv/lib/python3.9/site-packages (from -r requirements.txt (line 1)) (3.11.0)\r\n",
      "Requirement already satisfied: matplotlib==3.8.4 in ./venv/lib/python3.9/site-packages (from -r requirements.txt (line 2)) (3.8.4)\r\n",
      "Requirement already satisfied: NEURON==8.2.4 in ./venv/lib/python3.9/site-packages (from -r requirements.txt (line 3)) (8.2.4)\r\n",
      "Requirement already satisfied: numpy==1.26.4 in ./venv/lib/python3.9/site-packages (from -r requirements.txt (line 4)) (1.26.4)\r\n",
      "Requirement already satisfied: openpyxl==3.1.2 in ./venv/lib/python3.9/site-packages (from -r requirements.txt (line 5)) (3.1.2)\r\n",
      "Requirement already satisfied: pandas==2.2.2 in ./venv/lib/python3.9/site-packages (from -r requirements.txt (line 6)) (2.2.2)\r\n",
      "Collecting scikit_learn==1.5.0\r\n",
      "  Downloading scikit_learn-1.5.0-cp39-cp39-macosx_12_0_arm64.whl (11.0 MB)\r\n",
      "     |████████████████████████████████| 11.0 MB 5.2 MB/s            \r\n",
      "\u001B[?25hCollecting scipy==1.13.1\r\n",
      "  Downloading scipy-1.13.1-cp39-cp39-macosx_12_0_arm64.whl (30.3 MB)\r\n",
      "     |████████████████████████████████| 30.3 MB 4.8 MB/s             \r\n",
      "\u001B[?25hRequirement already satisfied: spectral_connectivity==1.1.2 in ./venv/lib/python3.9/site-packages (from -r requirements.txt (line 9)) (1.1.2)\r\n",
      "Requirement already satisfied: spikeinterface==0.100.6 in ./venv/lib/python3.9/site-packages (from -r requirements.txt (line 10)) (0.100.6)\r\n",
      "Requirement already satisfied: contourpy>=1.0.1 in ./venv/lib/python3.9/site-packages (from matplotlib==3.8.4->-r requirements.txt (line 2)) (1.2.1)\r\n",
      "Requirement already satisfied: kiwisolver>=1.3.1 in ./venv/lib/python3.9/site-packages (from matplotlib==3.8.4->-r requirements.txt (line 2)) (1.4.5)\r\n",
      "Requirement already satisfied: python-dateutil>=2.7 in ./venv/lib/python3.9/site-packages (from matplotlib==3.8.4->-r requirements.txt (line 2)) (2.9.0.post0)\r\n",
      "Requirement already satisfied: packaging>=20.0 in ./venv/lib/python3.9/site-packages (from matplotlib==3.8.4->-r requirements.txt (line 2)) (24.0)\r\n",
      "Requirement already satisfied: fonttools>=4.22.0 in ./venv/lib/python3.9/site-packages (from matplotlib==3.8.4->-r requirements.txt (line 2)) (4.51.0)\r\n",
      "Requirement already satisfied: importlib-resources>=3.2.0 in ./venv/lib/python3.9/site-packages (from matplotlib==3.8.4->-r requirements.txt (line 2)) (6.4.0)\r\n",
      "Requirement already satisfied: pillow>=8 in ./venv/lib/python3.9/site-packages (from matplotlib==3.8.4->-r requirements.txt (line 2)) (10.3.0)\r\n",
      "Requirement already satisfied: pyparsing>=2.3.1 in ./venv/lib/python3.9/site-packages (from matplotlib==3.8.4->-r requirements.txt (line 2)) (3.1.2)\r\n",
      "Requirement already satisfied: cycler>=0.10 in ./venv/lib/python3.9/site-packages (from matplotlib==3.8.4->-r requirements.txt (line 2)) (0.12.1)\r\n",
      "Requirement already satisfied: setuptools in ./venv/lib/python3.9/site-packages (from NEURON==8.2.4->-r requirements.txt (line 3)) (60.2.0)\r\n",
      "Requirement already satisfied: find-libpython in ./venv/lib/python3.9/site-packages (from NEURON==8.2.4->-r requirements.txt (line 3)) (0.4.0)\r\n",
      "Requirement already satisfied: et-xmlfile in ./venv/lib/python3.9/site-packages (from openpyxl==3.1.2->-r requirements.txt (line 5)) (1.1.0)\r\n",
      "Requirement already satisfied: tzdata>=2022.7 in ./venv/lib/python3.9/site-packages (from pandas==2.2.2->-r requirements.txt (line 6)) (2024.1)\r\n",
      "Requirement already satisfied: pytz>=2020.1 in ./venv/lib/python3.9/site-packages (from pandas==2.2.2->-r requirements.txt (line 6)) (2024.1)\r\n",
      "Collecting joblib>=1.2.0\r\n",
      "  Downloading joblib-1.4.2-py3-none-any.whl (301 kB)\r\n",
      "     |████████████████████████████████| 301 kB 64.8 MB/s            \r\n",
      "\u001B[?25hRequirement already satisfied: threadpoolctl>=3.1.0 in ./venv/lib/python3.9/site-packages (from scikit_learn==1.5.0->-r requirements.txt (line 7)) (3.5.0)\r\n",
      "Requirement already satisfied: xarray in ./venv/lib/python3.9/site-packages (from spectral_connectivity==1.1.2->-r requirements.txt (line 9)) (2024.3.0)\r\n",
      "Requirement already satisfied: probeinterface>=0.2.21 in ./venv/lib/python3.9/site-packages (from spikeinterface==0.100.6->-r requirements.txt (line 10)) (0.2.21)\r\n",
      "Requirement already satisfied: tqdm in ./venv/lib/python3.9/site-packages (from spikeinterface==0.100.6->-r requirements.txt (line 10)) (4.66.4)\r\n",
      "Requirement already satisfied: neo>=0.13.0 in ./venv/lib/python3.9/site-packages (from spikeinterface==0.100.6->-r requirements.txt (line 10)) (0.13.0)\r\n",
      "Requirement already satisfied: zarr>=0.2.16 in ./venv/lib/python3.9/site-packages (from spikeinterface==0.100.6->-r requirements.txt (line 10)) (2.17.2)\r\n",
      "Requirement already satisfied: zipp>=3.1.0 in ./venv/lib/python3.9/site-packages (from importlib-resources>=3.2.0->matplotlib==3.8.4->-r requirements.txt (line 2)) (3.18.1)\r\n",
      "Requirement already satisfied: quantities>=0.14.1 in ./venv/lib/python3.9/site-packages (from neo>=0.13.0->spikeinterface==0.100.6->-r requirements.txt (line 10)) (0.15.0)\r\n",
      "Requirement already satisfied: six>=1.5 in ./venv/lib/python3.9/site-packages (from python-dateutil>=2.7->matplotlib==3.8.4->-r requirements.txt (line 2)) (1.15.0)\r\n",
      "Requirement already satisfied: asciitree in ./venv/lib/python3.9/site-packages (from zarr>=0.2.16->spikeinterface==0.100.6->-r requirements.txt (line 10)) (0.3.3)\r\n",
      "Requirement already satisfied: numcodecs>=0.10.0 in ./venv/lib/python3.9/site-packages (from zarr>=0.2.16->spikeinterface==0.100.6->-r requirements.txt (line 10)) (0.12.1)\r\n",
      "Requirement already satisfied: fasteners in ./venv/lib/python3.9/site-packages (from zarr>=0.2.16->spikeinterface==0.100.6->-r requirements.txt (line 10)) (0.19)\r\n",
      "Installing collected packages: scipy, joblib, scikit-learn\r\n",
      "  Attempting uninstall: scipy\r\n",
      "    Found existing installation: scipy 1.13.0\r\n",
      "    Uninstalling scipy-1.13.0:\r\n",
      "      Successfully uninstalled scipy-1.13.0\r\n",
      "Successfully installed joblib-1.4.2 scikit-learn-1.5.0 scipy-1.13.1\r\n",
      "\u001B[33mWARNING: You are using pip version 21.3.1; however, version 24.0 is available.\r\n",
      "You should consider upgrading via the '/Users/chaitrapeddireddy/Documents/GitHub/local_field_potential/venv/bin/python -m pip install --upgrade pip' command.\u001B[0m\r\n"
     ]
    }
   ],
   "source": [
    "!pip install -r requirements.txt"
   ],
   "metadata": {
    "collapsed": false
   }
  },
  {
   "cell_type": "code",
   "execution_count": null,
   "outputs": [],
   "source": [
    "import lfp_analysis"
   ],
   "metadata": {
    "collapsed": false
   }
  },
  {
   "cell_type": "markdown",
   "source": [
    "###Convert the video files to mp4 format by passing the experiment directory"
   ],
   "metadata": {
    "collapsed": false
   }
  },
  {
   "cell_type": "code",
   "execution_count": null,
   "outputs": [],
   "source": [
    "experiment_dir = \"/Volumes/chaitra/reward_competition_extension/data\"\n",
    "lfp_analysis.convert_to_mp4(experiment_dir)"
   ],
   "metadata": {
    "collapsed": false
   }
  },
  {
   "cell_type": "code",
   "execution_count": null,
   "outputs": [],
   "source": [
    "input_dir = \"/Volumes/chaitra/reward_competition_extension/data/standard/2023_06_*/*.rec\"\n",
    "session_to_trodes_temp, paths = lfp_analysis.extract_all_trodes(input_dir)\n",
    "session_to_trodes_temp = lfp_analysis.add_video_timestamps(session_to_trodes_temp, input_dir)"
   ],
   "metadata": {
    "collapsed": false
   }
  },
  {
   "cell_type": "markdown",
   "source": [
    "###Generating metadata dataframe"
   ],
   "metadata": {
    "collapsed": false
   }
  },
  {
   "cell_type": "code",
   "execution_count": null,
   "outputs": [],
   "source": [
    "metadata = lfp_analysis.create_metadata_df(session_to_trodes_temp, paths)"
   ],
   "metadata": {
    "collapsed": false
   }
  },
  {
   "cell_type": "markdown",
   "source": [
    "###Generating (updated) metadata, state_df, video_df, and pkl_path"
   ],
   "metadata": {
    "collapsed": false
   }
  },
  {
   "cell_type": "code",
   "execution_count": null,
   "outputs": [],
   "source": [
    "output_dir = \"/Volumes/chaitra/reward_competition_extension/data/proc/\"\n",
    "experiment_prefix = \"rce_test\"\n",
    "metadata, state_df, video_df, final_df, pkl_path = adjust_first_timestamps(metadata, output_dir, experiment_prefix)"
   ],
   "metadata": {
    "collapsed": false
   }
  }
 ],
 "metadata": {
  "kernelspec": {
   "display_name": "Python 3",
   "language": "python",
   "name": "python3"
  },
  "language_info": {
   "codemirror_mode": {
    "name": "ipython",
    "version": 2
   },
   "file_extension": ".py",
   "mimetype": "text/x-python",
   "name": "python",
   "nbconvert_exporter": "python",
   "pygments_lexer": "ipython2",
   "version": "2.7.6"
  }
 },
 "nbformat": 4,
 "nbformat_minor": 0
}
